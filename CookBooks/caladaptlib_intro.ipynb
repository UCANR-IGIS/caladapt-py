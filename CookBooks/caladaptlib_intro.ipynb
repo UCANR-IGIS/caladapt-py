{
 "cells": [
  {
   "cell_type": "markdown",
   "metadata": {},
   "source": [
    "# Introduction to the basic functionality of the CalAdapt Python Toolbox and the CalAdapt Library (helper module)\n",
    "### This notebook will demostrate how to query the Cal-Adapt API using custom Area of Interests (AOI) derived from gis data (points, lines, and polygons).\n",
    "\n",
    "### To query the Cal-Adapt API using custom Area of Interests (AOI) and to chart the results using the CalAdapt Python Toolbox with ArcGIS Pro\n",
    "\n",
    "#### To get data from the API\n",
    "Open the Get Data from API in the CalAdapt - API Toolset, populate the parameter in the toolbox (see image below), and execute the tool by clicking run.\n",
    "![](GetData.png)\n",
    "After the tool successfully runs the data returned from the CalAdapt API will be saved in the File Geodatabase you specified in the tool.\n",
    "![](TableData.png)\n",
    "#### To chart the results returned from the API\n",
    "Open the Chart Data from API in the CalAdapt - API Toolset, populate the parameter in the toolbox (see image below), and execute the tool by clicking run.\n",
    "![](ChartDataTool.png)\n",
    "After the tool successfully runs the chart will be added to the map within ArcGIS Pro.  Open the chart and it will look similar to the image below.\n",
    "![](ChartData.png)\n",
    "\n",
    "#### To use the CalAdapt Python Toolbox and the CalAdapt Library (helper module) please do the following\n",
    "Download the zip file from github and uncompress the zip file  into your project folder. For ArcGIS, load the python toolbox into your ArcGIS Project and use the tools in the toolbox. For Python, import the libarary and use the different modules as needed."
   ]
  },
  {
   "cell_type": "markdown",
   "metadata": {},
   "source": [
    "### To query the Cal-Adapt API using custom Area of Interests (AOI) and to chart the results using the CalAdapt Python Toolbox with ArcGIS Pro\n",
    "\n",
    "#### To get data from the API\n",
    "Open the Get Data from API in the CalAdapt - API Toolset, populate the parameter in the toolbox (see image below), and execute the tool by clicking run.\n",
    "![](GetData.png)\n",
    "After the tool successfully runs the data returned from the CalAdapt API will be saved in the File Geodatabase you specified in the tool.\n",
    "![](TableData.png)\n",
    "#### To chart the results returned from the API\n",
    "Open the Chart Data from API in the CalAdapt - API Toolset, populate the parameter in the toolbox (see image below), and execute the tool by clicking run.\n",
    "![](ChartDataTool.png)\n",
    "After the tool successfully runs the chart will be added to the map within ArcGIS Pro.  Open the chart and it will look similar to the image below.\n",
    "![](ChartData.png)\n"
   ]
  },
  {
   "cell_type": "markdown",
   "metadata": {},
   "source": [
    "### To query the Cal-Adapt API using custom Area of Interests (AOI) and to chart the results using the CalAdapt Python Toolbox using a Jupyter Notebook (Python) inside or outside ArcGIS Pro."
   ]
  },
  {
   "cell_type": "code",
   "execution_count": 21,
   "metadata": {},
   "outputs": [
    {
     "data": {
      "text/html": [
       "<h2>Output</h2>D:\\Data\\ArcGIS\\Projects\\CalAdaptpy_Test\\CalAdaptpy_Test.gdb\\GetDataAPI_Single<h2>Messages</h2>Start Time: Friday, November 5, 2021 2:43:00 PM<br/>Succeeded at Friday, November 5, 2021 2:43:21 PM (Elapsed Time: 20.68 seconds)<br/><style>.rendered_html td, .rendered_html th {text-align: left;}.rendered_html tbody {border: 1px solid black;}</style>"
      ],
      "text/plain": [
       "<Result 'D:\\\\Data\\\\ArcGIS\\\\Projects\\\\CalAdaptpy_Test\\\\CalAdaptpy_Test.gdb\\\\GetDataAPI_Single'>"
      ]
     },
     "execution_count": 21,
     "metadata": {},
     "output_type": "execute_result"
    }
   ],
   "source": [
    "import os\n",
    "import arcpy\n",
    "\n",
    "# Import CalAdapt Python Toolbox into the Jupyter Notebook\n",
    "arcpy.ImportToolbox(r'D:\\Data\\ArcGIS\\Projects\\CalAdaptpy_Test\\CalAdaptLib\\CalAdapt.pyt','')\n",
    "\n",
    "# Import CalAdapt Library into the Jupyter Notebook.  This library exposes helper functions that are used to work with the Cal-Adapt API and Cal-Adapt Data Server\n",
    "import CalAdaptLib as cal\n",
    "\n",
    "# Custom Area of Interest (AOI), in this case the Russian River Basin in the north coast of California\n",
    "polygon = r'D:\\Data\\ArcGIS\\Projects\\CalAdaptpy_Test\\CalAdaptpy_Test.gdb\\RussianRiver_HUC10'\n",
    "\n",
    "# Run the Get Data from API Tool fropm the toolbox.  The result will be added to the map that is in your project\n",
    "arcpy.GetDataAPI(polygon, None, '', \"tair\", \"gfdl-cm3\", \"month\", True, True, True, False, \"mean\", r\"D:\\Data\\ArcGIS\\Projects\\CalAdaptpy_Test\\CalAdaptpy_Test.gdb\\GetDataAPI_Single\")"
   ]
  },
  {
   "cell_type": "code",
   "execution_count": 22,
   "metadata": {
    "scrolled": true
   },
   "outputs": [
    {
     "data": {
      "text/html": [
       "<h2>Output</h2><h2>Messages</h2>Start Time: Friday, November 5, 2021 2:43:21 PM<br/>Succeeded at Friday, November 5, 2021 2:43:22 PM (Elapsed Time: 0.09 seconds)<br/><style>.rendered_html td, .rendered_html th {text-align: left;}.rendered_html tbody {border: 1px solid black;}</style>"
      ],
      "text/plain": [
       "<Result ''>"
      ]
     },
     "execution_count": 22,
     "metadata": {},
     "output_type": "execute_result"
    }
   ],
   "source": [
    "# Run the Chart Data from API Tool from the toolbox.  The result will be added to the map that is in your project\n",
    "# Needs to be run from within ArcGIS Pro\n",
    "\n",
    "arcpy.CreateChart(\"GetDataAPI_Single\", \"DateTime\", \"Scenario\", \"Value\")"
   ]
  },
  {
   "cell_type": "markdown",
   "metadata": {},
   "source": [
    "### The GetDataAPI tool in the toolbox will retrieve data from the Cal-Adapt API for one GCM.  If you want to analyze more than one GCM for a AOI you have two options.\n",
    "- You can run the tool twice with different GCMs and save the results in different tables.  You must save the results to different tables, because GetDataAPI tool will overwrite the data in the table with each run.  How ever if you use the next method you will not overwrite the data in the table.\n",
    "- Or, you can use python and the helper function in the CalAdapt library to complete your tasks.\n",
    "\n",
    "The steps to complete this task using the CalAdapt library are the following:\n",
    "1. Refresh Resource List from API (if resource list is older than 1 week, the function will refresh list)\n",
    "2. Create a Well Known Text (WKT) of your area of interest (AOI)\n",
    "3. Query resource list to get resource to query on the Cal-Adapt API\n",
    "4. Return data from the Cal-Adapt API\n",
    "5. Create table in File Geodatabase and save results in table\n",
    "6. Create chart of results"
   ]
  },
  {
   "cell_type": "markdown",
   "metadata": {},
   "source": [
    "#### 1. New resources are being added to the Cal-Adapt API all the time.  To account for this the CalAdapt Python Toolbox and CalAdapt Library queries the API and generates a list of available resources for the tools.  The tools refresh the resource list if the list on the computer is older than 1 week.  "
   ]
  },
  {
   "cell_type": "code",
   "execution_count": 23,
   "metadata": {},
   "outputs": [],
   "source": [
    "# get the local path to the CalAdapt Library, the resourcelist is stored there as well\n",
    "libPath = os.path.dirname(cal.__file__)\n",
    "resourceFile = ('%s/%s') %  (libPath, 'datasets.txt')\n",
    "cal.freshResourceList(resourceFile)"
   ]
  },
  {
   "cell_type": "markdown",
   "metadata": {},
   "source": [
    "#### 2. The Cal-Adapt API has been designed to work with custom Areas of Interest (AOI).  These AOIs can be represented as geojson or Well Known Text (WKT).  The CalAdapt Python Toolbox and CalAdapt Library utilizes WKT to represnt the AOI geometries.  The cal.createWKT() will take a point, line, or polygon dataset and generates a WKT representation for use in the tools.\n",
    "*Note the maximum size of an AOI is the size of San Bernadino County (20,105 mi²).*"
   ]
  },
  {
   "cell_type": "code",
   "execution_count": 24,
   "metadata": {},
   "outputs": [
    {
     "name": "stdout",
     "output_type": "stream",
     "text": [
      "Help on function createWKT in module CalAdaptLib:\n",
      "\n",
      "createWKT(aoi, splitFeatures=False, fieldName='')\n",
      "\n"
     ]
    }
   ],
   "source": [
    "help(cal.createWKT)\n",
    "\n",
    "geom = r'D:\\Data\\ArcGIS\\Projects\\CalAdaptpy_Test\\CalAdaptpy_Test.gdb\\RussianRiver_HUC10'\n",
    "wkt = cal.createWKT(geom)\n",
    "\n",
    "# Uncomment to see WKT\n",
    "# wkt[0][0]"
   ]
  },
  {
   "cell_type": "markdown",
   "metadata": {},
   "source": [
    "#### 3. The Cal-Adapt API serves many datasets via the API.  These datasets can be retrieved based on the predefined names.  The cal.getResourceName() function will take a series of parameters to help narrow down the list of resources for you analaysis. \n",
    "\n",
    "*Not all parameters of the function need to be populated for it to return results.  You will need to narrow your reults down to one option before running the folling tools*"
   ]
  },
  {
   "cell_type": "code",
   "execution_count": 25,
   "metadata": {},
   "outputs": [
    {
     "name": "stdout",
     "output_type": "stream",
     "text": [
      "Help on function getResourceName in module CalAdaptLib:\n",
      "\n",
      "getResourceName(dataFile, variable='', gcm='', period='', scenario='')\n",
      "\n"
     ]
    }
   ],
   "source": [
    "help(cal.getResourceName)\n",
    "\n",
    "variable='tair'\n",
    "gcm='miroc5'\n",
    "period='month'\n",
    "scenario='rcp45'\n",
    "\n",
    "CalAdaptFilename = cal.getResourceName(resourceFile, variable, gcm, period, scenario)\n",
    "\n",
    "# Uncomment the following line to see the results is not all paramters are completed.\n",
    "#cal.getResourceName(resourceFile, variable='tair', gcm='miroc5', period='month')"
   ]
  },
  {
   "cell_type": "markdown",
   "metadata": {},
   "source": [
    "#### 4. Using the data generated in the previous 2 steps to query the Cal-Adapt API.  Use the cal.returnData() function to request data from the API.  One additional parameter needs to be set, this paratmeter is the stat parameter.  The Cal-Adapt API will summarize all the cells with your AOI and report back the statistic that you request.  Potential statistics include max, mean, median, min, and sum."
   ]
  },
  {
   "cell_type": "code",
   "execution_count": 26,
   "metadata": {},
   "outputs": [
    {
     "name": "stdout",
     "output_type": "stream",
     "text": [
      "Help on function returnData in module CalAdaptLib:\n",
      "\n",
      "returnData(wkt, stat, fileName)\n",
      "    #def returnData(wkt, scenario, variable, gcm, period, stat, fileName):\n",
      "\n"
     ]
    }
   ],
   "source": [
    "help(cal.returnData)\n",
    "\n",
    "stat = 'mean'\n",
    "\n",
    "results = cal.returnData(wkt[0], stat, CalAdaptFilename[0])\n",
    "\n",
    "# Uncomment to see results\n",
    "#results"
   ]
  },
  {
   "cell_type": "markdown",
   "metadata": {},
   "source": [
    "#### 5. The previous step returned the results from the Cal-Adapt API.  Now lets create a table in a File Geodatabase and save the results in the table. "
   ]
  },
  {
   "cell_type": "code",
   "execution_count": 27,
   "metadata": {},
   "outputs": [
    {
     "name": "stdout",
     "output_type": "stream",
     "text": [
      "Help on function createTable in module CalAdaptLib:\n",
      "\n",
      "createTable(results, workspace, tableName1, fieldName, variable, gcm, scenario, period, stat)\n",
      "\n"
     ]
    }
   ],
   "source": [
    "help(cal.createTable)\n",
    "\n",
    "workspace = r\"D:\\Data\\ArcGIS\\Projects\\CalAdaptpy_Test\\CalAdaptpy_Test.gdb\"\n",
    "tableName = \"GetDataAPI1\"\n",
    "\n",
    "chartParameters = cal.createTable(results,workspace,tableName, wkt, variable, gcm, scenario, period, stat)\n",
    "\n",
    "# Uncomment to see chartParameters returned from the createTable function\n",
    "#chartParameters"
   ]
  },
  {
   "cell_type": "markdown",
   "metadata": {},
   "source": [
    "#### 6. The final step is to visualize the results via a chart.  Use the following tool to create a chart in ArcGIS Pro.  This tool can use the object returned from the createTable function to populate the chart parameters.\n",
    "\n",
    "*Note this tool will only work if run from within ArcGIS Pro*"
   ]
  },
  {
   "cell_type": "code",
   "execution_count": 28,
   "metadata": {},
   "outputs": [
    {
     "name": "stdout",
     "output_type": "stream",
     "text": [
      "Help on function createChart in module CalAdaptLib:\n",
      "\n",
      "createChart(dateField, ClimateDesc1, ClimateField, tableName)\n",
      "\n"
     ]
    }
   ],
   "source": [
    "help(cal.createChart)\n",
    "\n",
    "# Needs to be run from within ArcGIS Pro\n",
    "#cal.createChart(chartParameters[0],chartParameters[1],chartParameters[2],chartParameters[3])"
   ]
  },
  {
   "cell_type": "markdown",
   "metadata": {},
   "source": [
    "### Let's take all that we learned above and create a small script to query the Cal-Adapt API for 2 Global Climate Models and 3 different Scenarios and save the results in a table in a File Geodatabase."
   ]
  },
  {
   "cell_type": "code",
   "execution_count": 29,
   "metadata": {},
   "outputs": [],
   "source": [
    "libPath = os.path.dirname(cal.__file__)\n",
    "resourceFile = ('%s/%s') %  (libPath, 'datasets.txt')\n",
    "cal.freshResourceList(resourceFile)\n",
    "\n",
    "workspace = r'D:\\Data\\ArcGIS\\Projects\\CalAdaptpy_Test\\CalAdaptpy_Test.gdb'\n",
    "geom = r'D:\\Data\\ArcGIS\\Projects\\CalAdaptpy_Test\\CalAdaptpy_Test.gdb\\RussianRiver_HUC10'\n",
    "tableName = \"GetDataAPI_Multiple\"\n",
    "gcms = ['gfdl-cm3','miroc5']\n",
    "scenarios = ['historical','rcp45','rcp85']\n",
    "variable='tair'\n",
    "period='month'\n",
    "stat = 'mean'\n",
    "\n",
    "wkt = cal.createWKT(geom)\n",
    "\n",
    "table = '%s/%s' % (workspace, tableName)\n",
    "\n",
    "if (arcpy.Exists(table)) == True:\n",
    "    arcpy.management.Delete(table)\n",
    "\n",
    "for gcm in gcms:\n",
    "    for scenario in scenarios:\n",
    "        CalAdaptFilename = cal.getResourceName(resourceFile, variable, gcm, period, scenario)\n",
    "        results = cal.returnData(wkt[0], stat, CalAdaptFilename[0])\n",
    "        chartParameters = cal.createTable(results,workspace,tableName, wkt, variable, gcm, scenario, period, stat)\n",
    "\n",
    "try : \n",
    "    cal.createChart(chartParameters[0],chartParameters[1],chartParameters[2],chartParameters[3]) \n",
    "      \n",
    "except OSError as error : \n",
    "    print(\"createChart needs to be run from within ArcGIS Pro\")"
   ]
  },
  {
   "cell_type": "markdown",
   "metadata": {},
   "source": [
    "After the script successfully (in ArcGIS Pro) runs the chart will be added to the map within ArcGIS Pro.  Open the chart and it will look similar to the image below.\n",
    "![](MultiChartData.png)"
   ]
  }
 ],
 "metadata": {
  "kernelspec": {
   "display_name": "ArcGISPro",
   "language": "Python",
   "name": "python3"
  },
  "language_info": {
   "file_extension": ".py",
   "name": "python",
   "version": "3"
  }
 },
 "nbformat": 4,
 "nbformat_minor": 2
}
