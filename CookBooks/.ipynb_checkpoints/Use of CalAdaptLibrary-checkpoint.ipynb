{
 "cells": [
  {
   "cell_type": "code",
   "execution_count": null,
   "metadata": {},
   "outputs": [],
   "source": [
    "import os\n",
    "import arcpy\n",
    "\n",
    "# Import CalAdapt Python Toolbox into the Jupyter Notebook\n",
    "arcpy.ImportToolbox(r'D:\\Data\\ArcGIS\\Projects\\CalAdaptpy_Test\\CalAdaptLib\\CalAdapt.pyt','')\n",
    "\n",
    "# Import CalAdapt Library into the Jupyter Notebook.  This library exposes helper functions that are used to work with the caladapt api and ftp server\n",
    "import CalAdaptLib as cal\n",
    "\n",
    "# Custom Area of Interest (AOI), in this case the Russian River Basin in the north coast of California\n",
    "polygon = r'D:\\Data\\ArcGIS\\Projects\\CalAdaptpy_Test\\CalAdaptpy_Test.gdb\\RussianRiver_HUC10'\n",
    "\n",
    "# Run the Get Data from API Tool fropm the toolbox.  The result will be added to the map that is in your project\n",
    "arcpy.GetDataAPI(polygon, None, '', \"tair\", \"gfdl-cm3\", \"month\", True, True, True, False, \"mean\", r\"D:\\Data\\ArcGIS\\Projects\\CalAdaptpy_Test\\CalAdaptpy_Test.gdb\\GetDataAPI_Single\")"
   ]
  },
  {
   "cell_type": "code",
   "execution_count": null,
   "metadata": {},
   "outputs": [],
   "source": [
    "# Run the Chart Data from API Tool from the toolbox.  The result will be added to the map that is in your project\n",
    "# Needs to be run from within ArcGIS Pro\n",
    "\n",
    "arcpy.CreateChart(\"GetDataAPI_Single\", \"DateTime\", \"Scenario\", \"Value\")"
   ]
  },
  {
   "cell_type": "markdown",
   "metadata": {},
   "source": [
    "### The GetDataAPI tool in the toolbox will retrieve data from the CalAdapt API for one GCM.  If you want to analyze for than one GCM for a AOI you have two options.  You can run the tool twice with different GCMs and save the results in different tables or you can use python and the helper function in the CalAdapt library to complete your tasks.  The steps to complete this task using the CalAdapt library are the following:\n",
    "1. Refresh Resource List from API (if resource list is older than 1 week, the function will refresh list)\n",
    "2. Create a Well Known Text (WKT) of your area of interest (AOI)\n",
    "3. Query resource list to get resource to query on the CalAdapt API\n",
    "4. Return data from the CalAdapt API\n",
    "5. Create table in File Geodatabase and save results in table\n",
    "6. Create chart of results"
   ]
  },
  {
   "cell_type": "markdown",
   "metadata": {},
   "source": [
    "#### 1. New resources are being added to the CalAdapt API all the time.  To account for this the CalAdapt Python Toolbox and CalAdapt Library queries the API and generates a list of available resources for the tools.  The tools refresh the resource list if the list on the computer is older than 1 week.  "
   ]
  },
  {
   "cell_type": "code",
   "execution_count": null,
   "metadata": {},
   "outputs": [],
   "source": [
    "# get the local path to the CalAdapt Library, the resourcelist is stored there as well\n",
    "libPath = os.path.dirname(cal.__file__)\n",
    "resourceFile = ('%s/%s') %  (libPath, 'datasets.txt')\n",
    "cal.freshResourceList(resourceFile)"
   ]
  },
  {
   "cell_type": "markdown",
   "metadata": {},
   "source": [
    "#### 2. The CalAdapt API has been designed to work with custom Areas of Interest (AOI).  These AOIs can be represented as geojson or Well Known Text (WKT).  The CalAdapt Python Toolbox and CalAdapt Library utilizes WKT to represnt the AOI geometries.  The cal.createWKT() will take a point, line, or polygon dataset and generates a WKT representation for use in the tools.\n",
    "*Note the maximum size of an AOI is the size of San Bernadino County (20,105 mi²).*"
   ]
  },
  {
   "cell_type": "code",
   "execution_count": null,
   "metadata": {},
   "outputs": [],
   "source": [
    "help(cal.createWKT)\n",
    "\n",
    "geom = 'D:\\Data\\ArcGIS\\Projects\\CalAdaptpy_Test\\CalAdaptpy_Test.gdb/RussianRiver_HUC10'\n",
    "wkt = cal.createWKT(geom)\n",
    "\n",
    "# Uncomment to see WKT\n",
    "# wkt[0][0]"
   ]
  },
  {
   "cell_type": "markdown",
   "metadata": {},
   "source": [
    "#### 3. The CalAdapt API serves many datasets via the API.  These datasets can be retrieved based on the predefined names.  The cal.getResourceName() function will take a series of parameters to help narrow down the list of resources for you analaysis. \n",
    "\n",
    "*Not all parameters of the function need to be populated for it to return results.  You will need to narrow your reults down to one option before running the folling tools*"
   ]
  },
  {
   "cell_type": "code",
   "execution_count": null,
   "metadata": {},
   "outputs": [],
   "source": [
    "help(cal.getResourceName)\n",
    "\n",
    "variable='tair'\n",
    "gcm='miroc5'\n",
    "period='month'\n",
    "scenario='rcp45'\n",
    "\n",
    "CalAdaptFilename = cal.getResourceName(resourceFile, variable, gcm, period, scenario)\n",
    "\n",
    "# Uncomment the following line to see the results is not all paramters are completed.\n",
    "#cal.getResourceName(resourceFile, variable='tair', gcm='miroc5', period='month')"
   ]
  },
  {
   "cell_type": "markdown",
   "metadata": {},
   "source": [
    "#### 4. Using the data generated in the previous 2 steps to query the CalAdapt API.  Use the cal.returnData() function to request data from the API.  One additional parameter needs to be set, this paratmeter is the stat parameter.  The CalAdapt API will summarize all the cells with your AOI and report back the statistic that you request.  Potential statistics include max, mean, median, min, and sum. "
   ]
  },
  {
   "cell_type": "code",
   "execution_count": null,
   "metadata": {},
   "outputs": [],
   "source": [
    "help(cal.returnData)\n",
    "\n",
    "stat = 'mean'\n",
    "\n",
    "results = cal.returnData(wkt[0], stat, CalAdaptFilename[0])\n",
    "\n",
    "# Uncomment to see results\n",
    "#results"
   ]
  },
  {
   "cell_type": "markdown",
   "metadata": {},
   "source": [
    "#### 5. The previous step returned the results from the CalAdapt API.  Now lets create a table in a File Geodatabase and save the results in the table. "
   ]
  },
  {
   "cell_type": "code",
   "execution_count": null,
   "metadata": {},
   "outputs": [],
   "source": [
    "help(cal.createTable)\n",
    "\n",
    "workspace = r\"D:\\Data\\ArcGIS\\Projects\\CalAdaptpy_Test\\CalAdaptpy_Test.gdb\"\n",
    "tableName = \"GetDataAPI1\"\n",
    "\n",
    "chartParameters = cal.createTable(results,workspace,tableName, wkt, variable, gcm, scenario, period, stat)\n",
    "\n",
    "# Uncomment to see chartParameters returned from the createTable function\n",
    "#chartParameters"
   ]
  },
  {
   "cell_type": "markdown",
   "metadata": {},
   "source": [
    "#### 6. The final step is to visualize the results via a chart.  Use the following tool to create a chart in ArcGIS Pro.  This tool can use the object returned from the createTable function to populate the chart parameters.\n",
    "\n",
    "*Note this tool will only work if run from within ArcGIS Pro*"
   ]
  },
  {
   "cell_type": "code",
   "execution_count": null,
   "metadata": {},
   "outputs": [],
   "source": [
    "help(cal.createChart)\n",
    "\n",
    "# Needs to be run from within ArcGIS Pro\n",
    "#cal.createChart(chartParameters[0],chartParameters[1],chartParameters[2],chartParameters[3])"
   ]
  },
  {
   "cell_type": "markdown",
   "metadata": {},
   "source": [
    "### Let's take all that we learned above and create a small script to query the CalAdapt API for 2 Global Climate Models and 3 different Scenarios and save the results in a table in a File Geodatabase."
   ]
  },
  {
   "cell_type": "code",
   "execution_count": null,
   "metadata": {},
   "outputs": [],
   "source": [
    "libPath = os.path.dirname(cal.__file__)\n",
    "resourceFile = ('%s/%s') %  (libPath, 'datasets.txt')\n",
    "cal.freshResourceList(resourceFile)\n",
    "\n",
    "workspace = r'D:\\Data\\ArcGIS\\Projects\\CalAdaptpy_Test\\CalAdaptpy_Test.gdb'\n",
    "geom = r'D:\\Data\\ArcGIS\\Projects\\CalAdaptpy_Test\\CalAdaptpy_Test.gdb\\RussianRiver_HUC10'\n",
    "tableName = \"GetDataAPI_Multiple\"\n",
    "gcms = ['gfdl-cm3','miroc5']\n",
    "scenarios = ['historical','rcp45','rcp85']\n",
    "variable='tair'\n",
    "period='month'\n",
    "stat = 'mean'\n",
    "\n",
    "wkt = cal.createWKT(geom)\n",
    "\n",
    "table = '%s/%s' % (workspace, tableName)\n",
    "\n",
    "if (arcpy.Exists(table)) == True:\n",
    "    arcpy.management.Delete(table)\n",
    "\n",
    "for gcm in gcms:\n",
    "    for scenario in scenarios:\n",
    "        CalAdaptFilename = cal.getResourceName(resourceFile, variable, gcm, period, scenario)\n",
    "        results = cal.returnData(wkt[0], stat, CalAdaptFilename[0])\n",
    "        chartParameters = cal.createTable(results,workspace,tableName, wkt, variable, gcm, scenario, period, stat)\n",
    "\n",
    "try : \n",
    "    cal.createChart(chartParameters[0],chartParameters[1],chartParameters[2],chartParameters[3]) \n",
    "      \n",
    "except OSError as error : \n",
    "    print(\"createChart needs to be run from within ArcGIS Pro\")"
   ]
  },
  {
   "cell_type": "code",
   "execution_count": null,
   "metadata": {},
   "outputs": [],
   "source": [
    "arcpy.management.Delete(in_data, {data_type})"
   ]
  }
 ],
 "metadata": {
  "kernelspec": {
   "display_name": "Python 3",
   "language": "python",
   "name": "python3"
  },
  "language_info": {
   "codemirror_mode": {
    "name": "ipython",
    "version": 3
   },
   "file_extension": ".py",
   "mimetype": "text/x-python",
   "name": "python",
   "nbconvert_exporter": "python",
   "pygments_lexer": "ipython3",
   "version": "3.7.10"
  }
 },
 "nbformat": 4,
 "nbformat_minor": 2
}
