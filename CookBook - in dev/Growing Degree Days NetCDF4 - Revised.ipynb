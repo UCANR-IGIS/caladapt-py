{
 "cells": [
  {
   "cell_type": "markdown",
   "metadata": {},
   "source": [
    "# Making Growing Degree Days Rasters"
   ]
  },
  {
   "cell_type": "markdown",
   "metadata": {},
   "source": [
    "We will use the historical maximum and minimum temperature data in the netCDF form.  The data will be downloaded from the use cal-adapt data repository at 'http://albers.cnr.berkeley.edu/data/noaa/livneh/CA_NV'"
   ]
  },
  {
   "cell_type": "code",
   "execution_count": 1,
   "metadata": {},
   "outputs": [],
   "source": [
    "# A 'magic' command that displays plots inline inside the notebook as static images.\n",
    "%matplotlib inline\n",
    "\n",
    "try:\n",
    "    #import modules needed for notebook\n",
    "    import requests \n",
    "    #import json\n",
    "    #import pandas as pd\n",
    "    import numpy as np\n",
    "    #import matplotlib.pyplot as plt\n",
    "    import netCDF4\n",
    "    import datetime as dt\n",
    "    from netCDF4 import date2num,num2date\n",
    "    import os\n",
    "    #from osgeo import gdal\n",
    "    #from osgeo import osr\n",
    "\n",
    "except ImportError:\n",
    "    print('Some required Python modules are missing.')"
   ]
  },
  {
   "cell_type": "markdown",
   "metadata": {},
   "source": [
    "### Definition of Growing Degree Days and different methods for calculating."
   ]
  },
  {
   "cell_type": "markdown",
   "metadata": {},
   "source": [
    "https://en.wikipedia.org/wiki/Growing_degree-day\n",
    "\n",
    "GDD are calculated by taking the integral of warmth above a base temperature,[1] Tbase (usually 10 °C):\n",
    "\n",
    "GDDs are typically measured from the winter low. Any temperature below Tbase is set to Tbase before calculating the average. Likewise, the maximum temperature is usually capped at 30 °C because most plants and insects do not grow any faster above that temperature. However, some warm temperate and tropical plants do have significant requirements for days above 30 °C to mature fruit or seeds.\n",
    "\n",
    "Example of GDD calculation\n",
    "For example, a day with a high of 23 °C and a low of 12 °C (and a base of 10 °C) would contribute 7.5 GDDs.\n",
    "\n",
    "{\\displaystyle {\\frac {23+12}{2}}-10=7.5} {\\frac  {23+12}{2}}-10=7.5\n",
    "As a second example, a day with a high of 13 °C and a low of 5 °C (and a base of 10 °C) would contribute:\n",
    "\n",
    "version A: 0 GDD, as:  max((13+5)/2-10,0)=0\n",
    "\n",
    "version B: 1.5 GDDs, as: (13+10)/2-10=11.5-10=1.5"
   ]
  },
  {
   "cell_type": "code",
   "execution_count": 2,
   "metadata": {},
   "outputs": [],
   "source": [
    "#  This function downloads data from the given api and saves the file to a\n",
    "#  local folder defines by the output location (outLoc)\n",
    "def downloadData(baseurl, year, outLoc, var, fileConcat):\n",
    "    try:\n",
    "        filename = fileConcat % (var, year, year)\n",
    "        url = '%s/%s/%s' % (baseurl, var, filename)\n",
    "        r = requests.get(url)\n",
    "        filename = '%s/%s' % (outLoc, filename)\n",
    "        \n",
    "        with open(filename, 'wb') as f:\n",
    "            f.write(r.content)\n",
    "            \n",
    "        return filename\n",
    "\n",
    "    except requests.exceptions.HTTPError as err:\n",
    "        print(err)"
   ]
  },
  {
   "cell_type": "code",
   "execution_count": 3,
   "metadata": {},
   "outputs": [],
   "source": [
    "def GDD (x1, x2, baseC, calcType, x3):\n",
    "    try:\n",
    "        np.warnings.filterwarnings('ignore')\n",
    "        if calcType == 'B':\n",
    "            x1[x1<baseC] = baseC\n",
    "            x2[x2<baseC] = baseC\n",
    "\n",
    "        x1[x1>30] = 30\n",
    "        x2[x2>30] = 30\n",
    "\n",
    "        x4 = ((x1 + x2)/2 - baseC)\n",
    "        x4[x4<0] = 0\n",
    "\n",
    "        x5 = np.add(x3,x4)\n",
    "\n",
    "        return x5\n",
    "    except:\n",
    "        pass"
   ]
  },
  {
   "cell_type": "code",
   "execution_count": 4,
   "metadata": {},
   "outputs": [],
   "source": [
    "ncfile = netCDF4.Dataset('new1.nc',mode='w',format='NETCDF4_CLASSIC')\n",
    "lat_dim = ncfile.createDimension('lat', 195) # latitude axis\n",
    "lon_dim = ncfile.createDimension('lon', 179) # longitude axis\n",
    "time_dim = ncfile.createDimension('time', None) # unlimited axis (can be appended to).\n",
    "\n",
    "ncfile.title='My model data'\n",
    "ncfile.subtitle=\"My model data subtitle\"\n",
    "ncfile.anything=\"write anything\"\n",
    "\n",
    "lat = ncfile.createVariable('lat', np.float32, ('lat',))\n",
    "lat.units = 'degrees_north'\n",
    "lat.long_name = 'latitude'\n",
    "\n",
    "lon = ncfile.createVariable('lon', np.float32, ('lon',))\n",
    "lon.units = 'degrees_east'\n",
    "lon.long_name = 'longitude'\n",
    "\n",
    "nlats = len(lat_dim); nlons = len(lon_dim); ntimes = 3\n",
    "\n",
    "time = ncfile.createVariable('time', np.float64, ('time',))\n",
    "time.units = 'days since 1900-01-01 00:00:00'\n",
    "time.long_name = 'time'\n",
    "\n",
    "gdd = ncfile.createVariable('gdd',np.float64,('time','lat','lon')) # note: unlimited dimension is leftmost\n",
    "gdd.units = 'C' # degrees Kelvin\n",
    "gdd.standard_name = 'Growing Degree Days Base 10 C' # this is a CF standard name\n",
    "\n",
    "gdd_400 = ncfile.createVariable('gdd_400',np.float64,('time','lat','lon')) # note: unlimited dimension is leftmost\n",
    "gdd_400.units = 'Julian Date' # degrees Kelvin\n",
    "gdd_400.standard_name = 'Julain Date of Growing Degree Days Base 10 C >= 400' # this is a CF standard name"
   ]
  },
  {
   "cell_type": "code",
   "execution_count": 5,
   "metadata": {},
   "outputs": [
    {
     "name": "stdout",
     "output_type": "stream",
     "text": [
      "Dataset is closed!\n"
     ]
    }
   ],
   "source": [
    "# entry point of the API\n",
    "baseurl = 'http://albers.cnr.berkeley.edu/data/scripps/loca/met/HadGEM2-ES/historical'\n",
    "fileConcat = '%s_day_HadGEM2-ES_historical_r1i1p1_%s0101-%s1231.LOCA_2016-04-02.16th.CA_NV.nc'\n",
    "values = [[baseurl, fileConcat, range(1950,2006)]]\n",
    "\n",
    "baseurl = 'http://albers.cnr.berkeley.edu/data/scripps/loca/met/HadGEM2-ES/rcp85'\n",
    "fileConcat = '%s_day_HadGEM2-ES_rcp85_r1i1p1_%s0101-%s1231.LOCA_2016-04-02.16th.CA_NV.nc'\n",
    "values.append([baseurl, fileConcat, range(2006,2100)])\n",
    "\n",
    "outLoc = 'Data'\n",
    "count1 = 0\n",
    "dates = []\n",
    "netCount = 0\n",
    "GDDaysThreshold = 400\n",
    "\n",
    "try:\n",
    "    for j in values:\n",
    "        baseurl = j[0]\n",
    "        fileConcat = j[1]\n",
    "\n",
    "        for year in j[2]:\n",
    "            filename = downloadData(baseurl, year, outLoc, \"tasmax\", fileConcat)\n",
    "            fh1 = netCDF4.Dataset(filename, mode='r')\n",
    "\n",
    "            lat[:] = fh1.variables[\"lat\"][:].filled()\n",
    "            lon[:] = fh1.variables[\"lon\"][:].filled()\n",
    "\n",
    "            filename2 = downloadData(baseurl, year, outLoc, \"tasmin\", fileConcat)\n",
    "            fh2 = netCDF4.Dataset(filename2, mode='r')\n",
    "\n",
    "            lCount = 0\n",
    "\n",
    "            tmin = fh2.variables['tasmin']\n",
    "            tmax = fh1.variables['tasmax']\n",
    "            lastDate = len(tmax) - 1\n",
    "            timecnt = fh1.variables[\"time\"][lastDate]\n",
    "\n",
    "            for i in range(0,len(tmax)):\n",
    "                x1 = tmax[i] - 273.15\n",
    "                x2 = tmin[i] - 273.15\n",
    "\n",
    "                lCount = lCount + 1\n",
    "                if lCount == 1:\n",
    "                    GDDays = x2 * 0                    \n",
    "                    GDDays[GDDays>100000] = np.nan\n",
    "                    threshold = x2 * 0\n",
    "                    threshold[threshold>100000] = np.nan\n",
    "                GDDays = GDD(x1,x2, 10, 'A', GDDays)\n",
    "                test = np.where(GDDays >= GDDaysThreshold, lCount, 0)\n",
    "                threshold = np.where(threshold == 0, test, threshold)\n",
    "\n",
    "            GDDays = GDDays.filled()\n",
    "            GDDays.shape = (195,179)\n",
    "            gdd[netCount,:,:] = GDDays # Appends data along unlimited dimension\n",
    "            \n",
    "            threshold[threshold == 0] = np.nan\n",
    "            threshold.shape = (195,179)\n",
    "            gdd_400[netCount,:,:] = threshold # Appends data along unlimited dimension\n",
    "\n",
    "            dates = np.append(dates, num2date(timecnt, time.units))\n",
    "\n",
    "            fh1.close()\n",
    "            fh1 = \"\"\n",
    "            os.remove(filename)\n",
    "\n",
    "            fh2.close()\n",
    "            fh2 = \"\"\n",
    "            os.remove(filename2)\n",
    "            netCount = netCount + 1\n",
    "            \n",
    "    time[:] = date2num(dates, units = time.units)\n",
    "\n",
    "    ncfile.close(); print('Dataset is closed!')\n",
    "\n",
    "except Exception as ex:\n",
    "    print(ex)"
   ]
  },
  {
   "cell_type": "code",
   "execution_count": 6,
   "metadata": {},
   "outputs": [
    {
     "ename": "SyntaxError",
     "evalue": "invalid syntax (<ipython-input-6-933ba83747dc>, line 14)",
     "output_type": "error",
     "traceback": [
      "\u001b[1;36m  File \u001b[1;32m\"<ipython-input-6-933ba83747dc>\"\u001b[1;36m, line \u001b[1;32m14\u001b[0m\n\u001b[1;33m    http://albers.cnr.berkeley.edu/data/scripps/loca/met/ACCESS1-0/historical/tasmax/tasmax_day_ACCESS1-0_historical_r1i1p1_19500101-19501231.LOCA_2016-04-02.16th.CA_NV.nc\u001b[0m\n\u001b[1;37m          ^\u001b[0m\n\u001b[1;31mSyntaxError\u001b[0m\u001b[1;31m:\u001b[0m invalid syntax\n"
     ]
    }
   ],
   "source": [
    "path = 'albers.cnr.berkeley.edu/data/'\n",
    "# NOAA Data Netcdf\n",
    "source = 'noaa'\n",
    "type_ = 'livneh/CA_NV'\n",
    "root = 'livneh_CA_NV_15Oct2014.%s%s.nc' % (year, month)\n",
    "fullpath = 'http://albers.cnr.berkeley.edu/data/noaa/livneh/CA_NV/livneh_CA_NV_15Oct2014.195001.nc'\n",
    "\n",
    "# NOAA Data Netcdf\n",
    "source = 'noaa'\n",
    "type_ = 'livneh/CA_NV'\n",
    "root = 'livneh_CA_NV_15Oct2014.%s%s.nc' % (year, month)\n",
    "fullpath = 'http://albers.cnr.berkeley.edu/data/noaa/livneh/CA_NV/livneh_CA_NV_15Oct2014.195001.nc'\n",
    "\n",
    "http://albers.cnr.berkeley.edu/data/scripps/loca/met/ACCESS1-0/historical/tasmax/tasmax_day_ACCESS1-0_historical_r1i1p1_19500101-19501231.LOCA_2016-04-02.16th.CA_NV.nc"
   ]
  }
 ],
 "metadata": {
  "kernelspec": {
   "display_name": "Python 3",
   "language": "python",
   "name": "python3"
  },
  "language_info": {
   "codemirror_mode": {
    "name": "ipython",
    "version": 3
   },
   "file_extension": ".py",
   "mimetype": "text/x-python",
   "name": "python",
   "nbconvert_exporter": "python",
   "pygments_lexer": "ipython3",
   "version": "3.6.8"
  }
 },
 "nbformat": 4,
 "nbformat_minor": 2
}
