{
 "cells": [
  {
   "cell_type": "code",
   "execution_count": 1,
   "metadata": {},
   "outputs": [],
   "source": [
    "import CalAdaptLib as cal\n",
    "#import requests\n",
    "#import pandas as pd\n",
    "import os\n",
    "#import json\n",
    "#from arcgis.gis import GIS\n",
    "#gis = GIS()\n"
   ]
  },
  {
   "cell_type": "code",
   "execution_count": 14,
   "metadata": {},
   "outputs": [
    {
     "name": "stdout",
     "output_type": "stream",
     "text": [
      "tasmin\n",
      "ens32min\n"
     ]
    },
    {
     "data": {
      "text/plain": [
       "[['tasmin'], ['ens32min'], ['day', 'year'], ['historical', 'rcp45', 'rcp85']]"
      ]
     },
     "execution_count": 14,
     "metadata": {},
     "output_type": "execute_result"
    }
   ],
   "source": [
    "libPath = os.path.dirname(cal.__file__)\n",
    "resourceFile = ('%s/%s') %  (libPath, 'datasets.txt')\n",
    "cal.freshResourceList(resourceFile)\n",
    "bb = cal.getvariables(resourceFile, variable=\"tasmin\", gcm=\"ens32min\", scenario=\"\", period=\"\")\n",
    "\n",
    "bb\n"
   ]
  },
  {
   "cell_type": "code",
   "execution_count": 11,
   "metadata": {},
   "outputs": [
    {
     "ename": "NameError",
     "evalue": "name 't' is not defined",
     "output_type": "error",
     "traceback": [
      "\u001b[0;31m---------------------------------------------------------------------------\u001b[0m\n\u001b[0;31mNameError\u001b[0m                                 Traceback (most recent call last)",
      "In  \u001b[0;34m[11]\u001b[0m:\nLine \u001b[0;34m1\u001b[0m:     fields = arcpy.ListFields(t)\n",
      "\u001b[0;31mNameError\u001b[0m: name 't' is not defined\n\u001b[0;31m---------------------------------------------------------------------------\u001b[0m"
     ]
    }
   ],
   "source": [
    "fields = arcpy.ListFields(t)\n",
    "\n",
    "# Iterate through the list of fields\n",
    "for field in fields:\n",
    "    if field.name == 'Name':\n",
    "        # Print field properties\n",
    "        print(\"Field:       {0}\".format(field.name))\n",
    "        print(\"Alias:       {0}\".format(field.aliasName))\n",
    "        print(\"Type:        {0}\".format(field.type))\n",
    "        print(\"Is Editable: {0}\".format(field.editable))\n",
    "        print(\"Required:    {0}\".format(field.required))\n",
    "        print(\"Scale:       {0}\".format(field.scale))\n",
    "        print(\"Precision:   {0}\".format(field.precision))"
   ]
  },
  {
   "cell_type": "code",
   "execution_count": null,
   "metadata": {},
   "outputs": [],
   "source": []
  }
 ],
 "metadata": {
  "kernelspec": {
   "display_name": "ArcGISPro",
   "language": "Python",
   "name": "python3"
  },
  "language_info": {
   "file_extension": ".py",
   "name": "python",
   "version": "3"
  }
 },
 "nbformat": 4,
 "nbformat_minor": 2
}
