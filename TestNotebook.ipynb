{
 "cells": [
  {
   "cell_type": "code",
   "execution_count": 1,
   "metadata": {},
   "outputs": [],
   "source": [
    "import CalAdaptLib as cal\n",
    "#import requests\n",
    "import pandas as pd\n",
    "import os\n",
    "#import json\n",
    "#from arcgis.gis import GIS\n",
    "#gis = GIS()\n"
   ]
  },
  {
   "cell_type": "code",
   "execution_count": 19,
   "metadata": {},
   "outputs": [
    {
     "data": {
      "text/plain": [
       "[['ET', 'Tair', 'baseflow', 'cdd', 'et', 'exheat', 'exheatn', 'hdd', 'pr', 'prdiff', 'r10mm', 'r20mm', 'rainfall', 'relhumid-max', 'relhumid-min', 'rsds', 'runoff', 'rx1day', 'snowfall', 'soilMoist1', 'swe', 'tair', 'tasmax', 'tasmaxdiff', 'tasmin', 'tasmindiff', 'wspeed'], ['ACCESS1-0', 'CCSM4', 'CESM1-BGC', 'CMCC-CMS', 'CNRM-CM5', 'CanESM2', 'GFDL-CM3', 'HadGEM2-CC', 'HadGEM2-ES', 'MIROC5', 'livneh', 'ens32avg', 'ens10', 'ens32max', 'ens32min', 'models-max', 'models-min'], ['month', 'day', 'year', '30yavg'], ['historical', 'rcp45', 'rcp85', 'vic', None]]"
      ]
     },
     "execution_count": 19,
     "metadata": {},
     "output_type": "execute_result"
    }
   ],
   "source": [
    "libPath = os.path.dirname(cal.__file__)\n",
    "resourceFile = ('%s/%s') %  (libPath, 'datasets.txt')\n",
    "cal.freshResourceList(resourceFile)\n",
    "#bb = cal.getvariables(resourceFile, variable=\"\", gcm=\"ens32min\", scenario=\"\", period=\"\")\n",
    "bb = cal.getvariables(resourceFile, variable=\"\", gcm=\"\", scenario=\"\", period=\"\")\n",
    "\n",
    "bb\n"
   ]
  },
  {
   "cell_type": "code",
   "execution_count": 25,
   "metadata": {},
   "outputs": [
    {
     "data": {
      "text/plain": [
       "['historical', 'rcp45', 'rcp85', 'vic']"
      ]
     },
     "execution_count": 25,
     "metadata": {},
     "output_type": "execute_result"
    }
   ],
   "source": [
    "cc = [i for i in bb[3] if i] \n",
    "cc\n",
    "#sorted(bb[3])"
   ]
  },
  {
   "cell_type": "code",
   "execution_count": 23,
   "metadata": {},
   "outputs": [
    {
     "ename": "NameError",
     "evalue": "name 't' is not defined",
     "output_type": "error",
     "traceback": [
      "\u001b[0;31m---------------------------------------------------------------------------\u001b[0m\n\u001b[0;31mNameError\u001b[0m                                 Traceback (most recent call last)",
      "In  \u001b[0;34m[23]\u001b[0m:\nLine \u001b[0;34m1\u001b[0m:     fields = arcpy.ListFields(t)\n",
      "\u001b[0;31mNameError\u001b[0m: name 't' is not defined\n\u001b[0;31m---------------------------------------------------------------------------\u001b[0m"
     ]
    }
   ],
   "source": [
    "fields = arcpy.ListFields(t)\n",
    "\n",
    "# Iterate through the list of fields\n",
    "for field in fields:\n",
    "    if field.name == 'Name':\n",
    "        # Print field properties\n",
    "        print(\"Field:       {0}\".format(field.name))\n",
    "        print(\"Alias:       {0}\".format(field.aliasName))\n",
    "        print(\"Type:        {0}\".format(field.type))\n",
    "        print(\"Is Editable: {0}\".format(field.editable))\n",
    "        print(\"Required:    {0}\".format(field.required))\n",
    "        print(\"Scale:       {0}\".format(field.scale))\n",
    "        print(\"Precision:   {0}\".format(field.precision))"
   ]
  },
  {
   "cell_type": "code",
   "execution_count": 13,
   "metadata": {},
   "outputs": [],
   "source": [
    "def getvariables(dataFile, variable=\"\", gcm=\"\", period=\"\", scenario=\"\"):\n",
    "    data = pd.read_csv(dataFile, sep=\" \", header=None)\n",
    "    data.columns = [\"StringVariable\"]\n",
    "    data[\"counts\"] = data.StringVariable.str.count(\"_\")\n",
    "    data1 = data[data[\"counts\"] <= 3]\n",
    "    data1 = data1['StringVariable'].str.split(\"_\", n = 4, expand = True)\n",
    "    data1.columns = [\"Variable\", \"Period\", \"GCM\", \"Scenario\"]\n",
    "        \n",
    "    if variable != \"\":\n",
    "        print(variable)\n",
    "        data1 = data1[data1.Variable.str.contains(variable)]\n",
    "        \n",
    "    if period != \"\":\n",
    "        print(period)\n",
    "        data1 = data1[data1.Period.str.contains(period)]\n",
    "        \n",
    "    if gcm != \"\":\n",
    "        print(gcm)\n",
    "        data1 = data1[data1.GCM.str.contains(gcm)]\n",
    "        \n",
    "    if scenario != \"\":\n",
    "        print(scenario)\n",
    "        data1 = data1[data1.Scenario.str.contains(scenario)]\n",
    "    \n",
    "    uniquePeriod = data1.drop_duplicates(subset=['Period'])\n",
    "    uniquePeriod = uniquePeriod['Period'].to_list()\n",
    "    #sorted(uniquePeriod)\n",
    "    \n",
    "    uniqueGCM = data1.drop_duplicates(subset=['GCM'])\n",
    "    uniqueGCM = uniqueGCM['GCM'].to_list()\n",
    "    #sorted(uniqueGCM)\n",
    "    \n",
    "    uniqueVariable = data1.drop_duplicates(subset=['Variable'])\n",
    "    uniqueVariable = uniqueVariable['Variable'].to_list()\n",
    "    #sorted(uniqueVariable)\n",
    "    \n",
    "    uniqueScenario = data1.drop_duplicates(subset=['Scenario'])\n",
    "    uniqueScenario = uniqueScenario['Scenario'].to_list()\n",
    "    #sorted(uniqueScenario)\n",
    "    \n",
    "    return [uniqueVariable,uniqueGCM,uniquePeriod,uniqueScenario]"
   ]
  },
  {
   "cell_type": "code",
   "execution_count": 14,
   "metadata": {},
   "outputs": [
    {
     "data": {
      "text/plain": [
       "[['ET', 'Tair', 'baseflow', 'cdd', 'et', 'exheat', 'exheatn', 'hdd', 'pr', 'prdiff', 'r10mm', 'r20mm', 'rainfall', 'relhumid-max', 'relhumid-min', 'rsds', 'runoff', 'rx1day', 'snowfall', 'soilMoist1', 'swe', 'tair', 'tasmax', 'tasmaxdiff', 'tasmin', 'tasmindiff', 'wspeed'], ['ACCESS1-0', 'CCSM4', 'CESM1-BGC', 'CMCC-CMS', 'CNRM-CM5', 'CanESM2', 'GFDL-CM3', 'HadGEM2-CC', 'HadGEM2-ES', 'MIROC5', 'livneh', 'ens32avg', 'ens10', 'ens32max', 'ens32min', 'models-max', 'models-min'], ['month', 'day', 'year', '30yavg'], ['historical', 'rcp45', 'rcp85', 'vic', None]]"
      ]
     },
     "execution_count": 14,
     "metadata": {},
     "output_type": "execute_result"
    }
   ],
   "source": [
    "libPath = os.path.dirname(cal.__file__)\n",
    "resourceFile = ('%s/%s') %  (libPath, 'datasets.txt')\n",
    "cal.freshResourceList(resourceFile)\n",
    "rl = getvariables(resourceFile, variable=\"\", gcm=\"\", scenario=\"\", period=\"\")\n",
    "rl"
   ]
  },
  {
   "cell_type": "code",
   "execution_count": 30,
   "metadata": {},
   "outputs": [
    {
     "data": {
      "text/html": [
       "<div>\n",
       "<style scoped>\n",
       "    .dataframe tbody tr th:only-of-type {\n",
       "        vertical-align: middle;\n",
       "    }\n",
       "\n",
       "    .dataframe tbody tr th {\n",
       "        vertical-align: top;\n",
       "    }\n",
       "\n",
       "    .dataframe thead th {\n",
       "        text-align: right;\n",
       "    }\n",
       "</style>\n",
       "<table border=\"1\" class=\"dataframe\">\n",
       "  <thead>\n",
       "    <tr style=\"text-align: right;\">\n",
       "      <th></th>\n",
       "      <th>Variable</th>\n",
       "      <th>Period</th>\n",
       "      <th>GCM</th>\n",
       "      <th>Scenario</th>\n",
       "    </tr>\n",
       "  </thead>\n",
       "  <tbody>\n",
       "    <tr>\n",
       "      <th>0</th>\n",
       "      <td>et</td>\n",
       "      <td>month</td>\n",
       "      <td>access1-0</td>\n",
       "      <td>historical</td>\n",
       "    </tr>\n",
       "    <tr>\n",
       "      <th>1</th>\n",
       "      <td>et</td>\n",
       "      <td>month</td>\n",
       "      <td>access1-0</td>\n",
       "      <td>rcp45</td>\n",
       "    </tr>\n",
       "    <tr>\n",
       "      <th>2</th>\n",
       "      <td>et</td>\n",
       "      <td>month</td>\n",
       "      <td>access1-0</td>\n",
       "      <td>rcp85</td>\n",
       "    </tr>\n",
       "    <tr>\n",
       "      <th>3</th>\n",
       "      <td>et</td>\n",
       "      <td>month</td>\n",
       "      <td>ccsm4</td>\n",
       "      <td>historical</td>\n",
       "    </tr>\n",
       "    <tr>\n",
       "      <th>4</th>\n",
       "      <td>et</td>\n",
       "      <td>month</td>\n",
       "      <td>ccsm4</td>\n",
       "      <td>rcp45</td>\n",
       "    </tr>\n",
       "    <tr>\n",
       "      <th>...</th>\n",
       "      <td>...</td>\n",
       "      <td>...</td>\n",
       "      <td>...</td>\n",
       "      <td>...</td>\n",
       "    </tr>\n",
       "    <tr>\n",
       "      <th>826</th>\n",
       "      <td>wspeed</td>\n",
       "      <td>day</td>\n",
       "      <td>hadgem2-es</td>\n",
       "      <td>rcp45</td>\n",
       "    </tr>\n",
       "    <tr>\n",
       "      <th>827</th>\n",
       "      <td>wspeed</td>\n",
       "      <td>day</td>\n",
       "      <td>hadgem2-es</td>\n",
       "      <td>rcp85</td>\n",
       "    </tr>\n",
       "    <tr>\n",
       "      <th>828</th>\n",
       "      <td>wspeed</td>\n",
       "      <td>day</td>\n",
       "      <td>miroc5</td>\n",
       "      <td>historical</td>\n",
       "    </tr>\n",
       "    <tr>\n",
       "      <th>829</th>\n",
       "      <td>wspeed</td>\n",
       "      <td>day</td>\n",
       "      <td>miroc5</td>\n",
       "      <td>rcp45</td>\n",
       "    </tr>\n",
       "    <tr>\n",
       "      <th>830</th>\n",
       "      <td>wspeed</td>\n",
       "      <td>day</td>\n",
       "      <td>miroc5</td>\n",
       "      <td>rcp85</td>\n",
       "    </tr>\n",
       "  </tbody>\n",
       "</table>\n",
       "<p>617 rows × 4 columns</p>\n",
       "</div>"
      ],
      "text/plain": [
       "    Variable Period         GCM    Scenario\n",
       "0         et  month   access1-0  historical\n",
       "1         et  month   access1-0       rcp45\n",
       "2         et  month   access1-0       rcp85\n",
       "3         et  month       ccsm4  historical\n",
       "4         et  month       ccsm4       rcp45\n",
       "..       ...    ...         ...         ...\n",
       "826   wspeed    day  hadgem2-es       rcp45\n",
       "827   wspeed    day  hadgem2-es       rcp85\n",
       "828   wspeed    day      miroc5  historical\n",
       "829   wspeed    day      miroc5       rcp45\n",
       "830   wspeed    day      miroc5       rcp85\n",
       "\n",
       "[617 rows x 4 columns]"
      ]
     },
     "execution_count": 30,
     "metadata": {},
     "output_type": "execute_result"
    }
   ],
   "source": [
    "data = pd.read_csv(resourceFile, sep=\" \", header=None)\n",
    "data.columns = [\"StringVariable\"]\n",
    "data[\"counts\"] = data.StringVariable.str.count(\"_\")\n",
    "data1 = data[data[\"counts\"] <= 3]\n",
    "data1 = data1['StringVariable'].str.split(\"_\", n = 4, expand = True)\n",
    "data1.columns = [\"Variable\", \"Period\", \"GCM\", \"Scenario\"]\n",
    "#data1 = data1[data1['Variable'] == \"tasmaxdiff\"]\n",
    "data1['Variable'] = data1[\"Variable\"].str.lower()\n",
    "data1['Period'] = data1[\"Period\"].str.lower()\n",
    "data1['GCM'] = data1[\"GCM\"].str.lower()\n",
    "data1['Scenario'] = data1[\"Scenario\"].str.lower()\n",
    "data1\n",
    "#if variable != \"\":\n",
    "#    print(variable)\n",
    "#    data1 = data1[data1.Variable.str.contains(variable)]"
   ]
  },
  {
   "cell_type": "code",
   "execution_count": null,
   "metadata": {},
   "outputs": [],
   "source": []
  }
 ],
 "metadata": {
  "kernelspec": {
   "display_name": "ArcGISPro",
   "language": "Python",
   "name": "python3"
  },
  "language_info": {
   "file_extension": ".py",
   "name": "python",
   "version": "3"
  }
 },
 "nbformat": 4,
 "nbformat_minor": 2
}
