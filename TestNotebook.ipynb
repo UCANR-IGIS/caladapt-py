{
 "cells": [
  {
   "cell_type": "code",
   "execution_count": 1,
   "metadata": {},
   "outputs": [],
   "source": [
    "import CalAdaptLib as cal\n",
    "import requests\n"
   ]
  },
  {
   "cell_type": "code",
   "execution_count": 2,
   "metadata": {},
   "outputs": [
    {
     "data": {
      "text/plain": [
       "'MULTIPOINT ((-120.59717634938453 38.62453127795582),(-120.59637978700887 38.62486427204126),(-120.59603218177487 38.624766080168236),(-120.5917259146482 38.62692079261752),(-120.59368564262526 38.621905295644105))'"
      ]
     },
     "execution_count": 2,
     "metadata": {},
     "output_type": "execute_result"
    }
   ],
   "source": [
    "a = cal.createWKT(cal.t)\n",
    "a"
   ]
  },
  {
   "cell_type": "code",
   "execution_count": 6,
   "metadata": {},
   "outputs": [
    {
     "name": "stdout",
     "output_type": "stream",
     "text": [
      "<Response [200]>\n",
      "First Raster Store object:\n",
      "{'event': '2006-01-01',\n",
      " 'geom': {'coordinates': [[[-124.5625, 31.5625],\n",
      "                           [-113.375, 31.5625],\n",
      "                           [-113.375, 43.75],\n",
      "                           [-124.5625, 43.75],\n",
      "                           [-124.5625, 31.5625]]],\n",
      "          'type': 'Polygon'},\n",
      " 'height': 195,\n",
      " 'id': 10616,\n",
      " 'image': 294.0047302246094,\n",
      " 'maxval': 306.8190612792969,\n",
      " 'minval': 277.5671691894531,\n",
      " 'name': 'yearly average maximum temperature CNRM-CM5 RCP 8.5',\n",
      " 'nodata': 1.0000000150474662e+30,\n",
      " 'slug': 'tasmax_year_CNRM-CM5_rcp85_2006',\n",
      " 'srs': 'GEOGCS[\"WGS 84\",DATUM[\"WGS_1984\",SPHEROID[\"WGS '\n",
      "        '84\",6378137,298.257223563,AUTHORITY[\"EPSG\",\"7030\"]],AUTHORITY[\"EPSG\",\"6326\"]],PRIMEM[\"Greenwich\",0],UNIT[\"degree\",0.0174532925199433],AUTHORITY[\"EPSG\",\"4326\"]]',\n",
      " 'tileurl': 'https://api.cal-adapt.org/tiles/tasmax_year_CNRM-CM5_rcp85_2006/{z}/{x}/{y}.png',\n",
      " 'units': 'K',\n",
      " 'url': 'https://api.cal-adapt.org/api/rstores/tasmax_year_CNRM-CM5_rcp85_2006/',\n",
      " 'width': 179,\n",
      " 'xpixsize': 0.0625,\n",
      " 'ypixsize': -0.0625}\n",
      "\n",
      "Timeseries for the grid cell at this point:\n",
      "year: 2006-01-01 value: 294.0047302246094 K\n",
      "year: 2007-01-01 value: 294.35406494140625 K\n",
      "year: 2008-01-01 value: 294.46807861328125 K\n",
      "year: 2009-01-01 value: 295.00238037109375 K\n",
      "year: 2010-01-01 value: 294.0607604980469 K\n",
      "year: 2011-01-01 value: 294.2281188964844 K\n",
      "year: 2012-01-01 value: 294.741943359375 K\n",
      "year: 2013-01-01 value: 294.2266845703125 K\n",
      "year: 2014-01-01 value: 294.97589111328125 K\n",
      "year: 2015-01-01 value: 293.288330078125 K\n",
      "year: 2016-01-01 value: 293.8769836425781 K\n",
      "year: 2017-01-01 value: 294.601318359375 K\n",
      "year: 2018-01-01 value: 294.35247802734375 K\n",
      "year: 2019-01-01 value: 293.0957336425781 K\n",
      "year: 2020-01-01 value: 293.9476013183594 K\n",
      "year: 2021-01-01 value: 293.931396484375 K\n",
      "year: 2022-01-01 value: 293.9151611328125 K\n",
      "year: 2023-01-01 value: 294.4931640625 K\n",
      "year: 2024-01-01 value: 295.04754638671875 K\n",
      "year: 2025-01-01 value: 294.7967224121094 K\n",
      "year: 2026-01-01 value: 294.530517578125 K\n",
      "year: 2027-01-01 value: 294.768798828125 K\n",
      "year: 2028-01-01 value: 294.7506103515625 K\n",
      "year: 2029-01-01 value: 294.7021484375 K\n",
      "year: 2030-01-01 value: 294.1407775878906 K\n",
      "year: 2031-01-01 value: 294.7062072753906 K\n",
      "year: 2032-01-01 value: 293.3125305175781 K\n",
      "year: 2033-01-01 value: 295.851318359375 K\n",
      "year: 2034-01-01 value: 294.7537536621094 K\n",
      "year: 2035-01-01 value: 296.33251953125 K\n",
      "year: 2036-01-01 value: 295.357177734375 K\n",
      "year: 2037-01-01 value: 295.1844177246094 K\n",
      "year: 2038-01-01 value: 294.3153381347656 K\n",
      "year: 2039-01-01 value: 295.834716796875 K\n",
      "year: 2040-01-01 value: 294.36090087890625 K\n",
      "year: 2041-01-01 value: 295.02239990234375 K\n",
      "year: 2042-01-01 value: 295.28167724609375 K\n",
      "year: 2043-01-01 value: 294.4461975097656 K\n",
      "year: 2044-01-01 value: 294.1078796386719 K\n",
      "year: 2045-01-01 value: 295.57781982421875 K\n",
      "year: 2046-01-01 value: 294.71240234375 K\n",
      "year: 2047-01-01 value: 296.2179260253906 K\n",
      "year: 2048-01-01 value: 294.02984619140625 K\n",
      "year: 2049-01-01 value: 295.8663024902344 K\n",
      "year: 2050-01-01 value: 294.3854675292969 K\n",
      "year: 2051-01-01 value: 295.939697265625 K\n",
      "year: 2052-01-01 value: 296.19482421875 K\n",
      "year: 2053-01-01 value: 295.3951110839844 K\n",
      "year: 2054-01-01 value: 296.10076904296875 K\n",
      "year: 2055-01-01 value: 295.865478515625 K\n",
      "year: 2056-01-01 value: 296.487548828125 K\n",
      "year: 2057-01-01 value: 296.32525634765625 K\n",
      "year: 2058-01-01 value: 296.935302734375 K\n",
      "year: 2059-01-01 value: 296.1082458496094 K\n",
      "year: 2060-01-01 value: 297.3905029296875 K\n",
      "year: 2061-01-01 value: 295.6821594238281 K\n",
      "year: 2062-01-01 value: 297.4735107421875 K\n",
      "year: 2063-01-01 value: 297.0213623046875 K\n",
      "year: 2064-01-01 value: 297.3370361328125 K\n",
      "year: 2065-01-01 value: 297.2784423828125 K\n",
      "year: 2066-01-01 value: 297.1204833984375 K\n",
      "year: 2067-01-01 value: 297.01837158203125 K\n",
      "year: 2068-01-01 value: 297.5417175292969 K\n",
      "year: 2069-01-01 value: 297.3203125 K\n",
      "year: 2070-01-01 value: 295.7692565917969 K\n",
      "year: 2071-01-01 value: 298.4130554199219 K\n",
      "year: 2072-01-01 value: 296.6739196777344 K\n",
      "year: 2073-01-01 value: 297.1518249511719 K\n",
      "year: 2074-01-01 value: 297.57550048828125 K\n",
      "year: 2075-01-01 value: 296.97723388671875 K\n",
      "year: 2076-01-01 value: 298.285400390625 K\n",
      "year: 2077-01-01 value: 297.7458801269531 K\n",
      "year: 2078-01-01 value: 297.21038818359375 K\n",
      "year: 2079-01-01 value: 297.9306335449219 K\n",
      "year: 2080-01-01 value: 297.0576171875 K\n",
      "year: 2081-01-01 value: 297.68865966796875 K\n",
      "year: 2082-01-01 value: 297.4933166503906 K\n",
      "year: 2083-01-01 value: 298.01763916015625 K\n",
      "year: 2084-01-01 value: 297.3672790527344 K\n",
      "year: 2085-01-01 value: 298.41143798828125 K\n",
      "year: 2086-01-01 value: 298.47308349609375 K\n",
      "year: 2087-01-01 value: 298.6353759765625 K\n",
      "year: 2088-01-01 value: 297.37628173828125 K\n",
      "year: 2089-01-01 value: 297.6878662109375 K\n",
      "year: 2090-01-01 value: 298.3448181152344 K\n",
      "year: 2091-01-01 value: 298.59283447265625 K\n",
      "year: 2092-01-01 value: 297.8445739746094 K\n",
      "year: 2093-01-01 value: 298.0732421875 K\n",
      "year: 2094-01-01 value: 299.048828125 K\n",
      "year: 2095-01-01 value: 297.93524169921875 K\n",
      "year: 2096-01-01 value: 299.03875732421875 K\n",
      "year: 2097-01-01 value: 299.25396728515625 K\n",
      "year: 2098-01-01 value: 298.932373046875 K\n",
      "year: 2099-01-01 value: 297.98504638671875 K\n",
      "year: 2100-01-01 value: 299.9599609375 K\n"
     ]
    }
   ],
   "source": [
    "c = cal.returnData(a, 'rcp85')"
   ]
  },
  {
   "cell_type": "code",
   "execution_count": 7,
   "metadata": {},
   "outputs": [],
   "source": [
    "g = cal.createTable(c,'D:/users/stfeirer/Documents/ArcGIS/Projects/CalAdaptPy_Demo/CalAdaptPy_Demo.gdb','caladapt_data')\n",
    "cal.createChart(g[0],g[1],g[2])"
   ]
  },
  {
   "cell_type": "code",
   "execution_count": 20,
   "metadata": {},
   "outputs": [
    {
     "name": "stdout",
     "output_type": "stream",
     "text": [
      "pr_year_ACCESS1-0_historical\n",
      "pr_year_ACCESS1-0_rcp45\n",
      "pr_year_ACCESS1-0_rcp85\n",
      "pr_year_CCSM4_historical\n",
      "pr_year_CCSM4_rcp45\n",
      "pr_year_CCSM4_rcp85\n",
      "pr_year_CESM1-BGC_historical\n",
      "pr_year_CESM1-BGC_rcp45\n",
      "pr_year_CESM1-BGC_rcp85\n",
      "pr_year_CMCC-CMS_historical\n",
      "pr_year_CMCC-CMS_rcp45\n",
      "pr_year_CMCC-CMS_rcp85\n",
      "pr_year_CNRM-CM5_historical\n",
      "pr_year_CNRM-CM5_rcp45\n",
      "pr_year_CNRM-CM5_rcp85\n",
      "pr_year_CanESM2_historical\n",
      "pr_year_CanESM2_rcp45\n",
      "pr_year_CanESM2_rcp85\n",
      "pr_year_GFDL-CM3_historical\n",
      "pr_year_GFDL-CM3_rcp45\n",
      "pr_year_GFDL-CM3_rcp85\n",
      "pr_year_HadGEM2-CC_historical\n",
      "pr_year_HadGEM2-CC_rcp45\n",
      "pr_year_HadGEM2-CC_rcp85\n",
      "pr_year_HadGEM2-ES_historical\n",
      "pr_year_HadGEM2-ES_rcp45\n",
      "pr_year_HadGEM2-ES_rcp85\n",
      "pr_year_MIROC5_historical\n",
      "pr_year_MIROC5_rcp45\n",
      "pr_year_MIROC5_rcp85\n",
      "pr_year_livneh\n"
     ]
    }
   ],
   "source": [
    "\n",
    "# Query parameters dict\n",
    "params = {'name': 'yearly average precipitation', 'pagesize': 1000}\n",
    "\n",
    "# Use params with the url.\n",
    "response = requests.get('http://api.cal-adapt.org/api/series/', params=params)\n",
    "\n",
    "# It is a good idea to check there were no problems with the request.\n",
    "if response.ok:\n",
    "    data = response.json()\n",
    "    # Get a list of raster series from results property of data object\n",
    "    results = data['results']\n",
    "    # Iterate through the list and print the url property of each object\n",
    "    for item in results:\n",
    "        print(item['slug'])"
   ]
  },
  {
   "cell_type": "code",
   "execution_count": 2,
   "metadata": {},
   "outputs": [],
   "source": [
    "m = arcpy.ListFields('D:/users/stfeirer/Documents/ArcGIS/Projects/CalAdaptPy_Demo/CalAdaptPy_Demo.gdb/caladapt_data')"
   ]
  },
  {
   "cell_type": "code",
   "execution_count": 7,
   "metadata": {},
   "outputs": [
    {
     "name": "stdout",
     "output_type": "stream",
     "text": [
      "OBJECTID\n",
      "DateTime\n",
      "ClimateDesc\n",
      "Value\n"
     ]
    },
    {
     "data": {
      "text/plain": [
       "['OBJECTID', 'DateTime', 'ClimateDesc', 'Value']"
      ]
     },
     "execution_count": 7,
     "metadata": {},
     "output_type": "execute_result"
    }
   ],
   "source": [
    "li = []\n",
    "for i in m:\n",
    "    print(i.name)\n",
    "    li.append(i.name)\n",
    "    \n",
    "li"
   ]
  },
  {
   "cell_type": "code",
   "execution_count": 6,
   "metadata": {},
   "outputs": [
    {
     "data": {
      "text/plain": [
       "[<Field object at 0x1a5a4cffe48[0x1a5a613d9b0]>, <Field object at 0x1a5a4cffe80[0x1a5a613d3f0]>, <Field object at 0x1a5a4cff5f8[0x1a5a613d6f0]>, <Field object at 0x1a5a646b470[0x1a5a613dc10]>]"
      ]
     },
     "execution_count": 6,
     "metadata": {},
     "output_type": "execute_result"
    }
   ],
   "source": [
    "n = list(m)\n",
    "n"
   ]
  },
  {
   "cell_type": "code",
   "execution_count": null,
   "metadata": {},
   "outputs": [],
   "source": []
  }
 ],
 "metadata": {
  "kernelspec": {
   "display_name": "ArcGISPro",
   "language": "Python",
   "name": "python3"
  },
  "language_info": {
   "file_extension": ".py",
   "name": "python",
   "version": "3"
  }
 },
 "nbformat": 4,
 "nbformat_minor": 2
}
